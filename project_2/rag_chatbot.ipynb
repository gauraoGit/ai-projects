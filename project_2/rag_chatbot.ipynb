{
 "cells": [
  {
   "cell_type": "markdown",
   "id": "568f5f07",
   "metadata": {},
   "source": [
    "# Project 2: Customer‑Support Chatbot for an E-Commerce Store"
   ]
  },
  {
   "cell_type": "markdown",
   "id": "2cfe2a04",
   "metadata": {},
   "source": [
    "Welcome! In this project, you'll build a **chatbot** that answers customer service questions about Everstorm Outfitters, an imaginary e-commerce store.\n",
    "\n",
    "Run each cell in order. Feel free to modify them as you go to better understand each tool and search the web or look online for documentation."
   ]
  },
  {
   "cell_type": "markdown",
   "id": "f49e17b2",
   "metadata": {},
   "source": [
    "## Learning Objectives  \n",
    "* **Ingest & chunk** unstructured docs  \n",
    "* **Embed** chunks and **index** with *FAISS*  \n",
    "* **Retrieve** context and **craft prompts**  \n",
    "* **Run** an open‑weight LLM locally with *Ollama*  \n",
    "* **Build** a Retrieval-Augmented Generation (RAG) chain\n",
    "* **Package** the chat loop in a minimal **Streamlit** web UI"
   ]
  },
  {
   "cell_type": "markdown",
   "id": "2a46b9cc",
   "metadata": {},
   "source": [
    "## Roadmap  \n",
    "We will build a RAG-based chatbot in **six** steps:\n",
    "\n",
    "1. **Environment setup**\n",
    "2. **Data preparation**  \n",
    "   a. Load source documents  \n",
    "   b. Chunk the text  \n",
    "3. **Build a retriever**  \n",
    "   a. Generate embeddings  \n",
    "   b. Build a FAISS vector index  \n",
    "4. **Build a generation engine**. Load the *Gemma3-1B* model through Ollama and run a sanity check.  \n",
    "5. **Build a RAG**. Connect the system prompt, retriever, and LLM together. \n",
    "6. **(Optional) Streamlit UI**. Wrap everything in a simple web app so users can chat with the bot.\n"
   ]
  },
  {
   "cell_type": "markdown",
   "id": "3a01819c",
   "metadata": {},
   "source": [
    "## 1 - Environment setup\n",
    "\n",
    "We use conda to manage our project dependencies and ensure everyone has a consistent setup. Conda is an open-source package and environment manager that makes it easy to install libraries and switch between isolated environments. To learn more about conda, you can read: https://docs.conda.io/en/latest/\n",
    "\n",
    "Create and activate a clean *conda* environment and install the required packages. If you don't have conda installed, visit https://www.anaconda.com/docs/getting-started/miniconda/main.\n",
    "\n",
    "\n",
    "Open your terminal, navigate to the project folder where this notebook is located, and run the following commands.\n",
    "\n",
    "```bash\n",
    "conda env create -f environment.yml && conda activate rag-chatbot\n",
    "\n",
    "# (Optional but recommended) Register this environment as a Jupyter kernel\n",
    "python -m ipykernel install --user --name=rag-chatbot --display-name \"rag-chatbot\"\n",
    "```\n",
    "Once this is done, you can select “rag-chatbot” from the Kernel → Change Kernel menu in Jupyter or VS Code.\n",
    "\n",
    "\n",
    "> Behind the scenes:\n",
    "> * Conda reads `environment.yml`, solves all pinned dependencies, and builds an isolated environment named `rag-chatbot`.\n",
    "> * When it reaches the file’s \"pip:\" section, Conda automatically invokes pip to install any remaining Python-only packages so the whole stack be available for the project.\n",
    "> * Registering the kernel makes your new environment visible to Jupyter, so the notebook runs inside the same environment you just created."
   ]
  },
  {
   "cell_type": "markdown",
   "id": "32a29e43",
   "metadata": {},
   "source": [
    "Let's import required libraries and print a message if we're not **missing packages**."
   ]
  },
  {
   "cell_type": "code",
   "execution_count": 2,
   "id": "65b49fcb",
   "metadata": {},
   "outputs": [
    {
     "name": "stdout",
     "output_type": "stream",
     "text": [
      "✅ Libraries imported! You're good to go!\n"
     ]
    }
   ],
   "source": [
    "# Import standard libraries for file handling and text processing\n",
    "import os, pathlib, textwrap, glob\n",
    "\n",
    "# Load documents from various sources (URLs, text files, PDFs)\n",
    "from langchain_community.document_loaders import UnstructuredURLLoader, TextLoader, PyPDFLoader\n",
    "\n",
    "# Split long texts into smaller, manageable chunks for embedding\n",
    "from langchain.text_splitter import RecursiveCharacterTextSplitter\n",
    "\n",
    "# Vector store to store and retrieve embeddings efficiently using FAISS\n",
    "from langchain.vectorstores import FAISS\n",
    "\n",
    "# Generate text embeddings using OpenAI or Hugging Face models\n",
    "from langchain.embeddings import OpenAIEmbeddings, HuggingFaceEmbeddings, SentenceTransformerEmbeddings\n",
    "\n",
    "# Use local LLMs (e.g., via Ollama) for response generation\n",
    "from langchain.llms import Ollama\n",
    "\n",
    "# Build a retrieval chain that combines a retriever, a prompt, and an LLM\n",
    "from langchain.chains import ConversationalRetrievalChain\n",
    "\n",
    "# Create prompts for the RAG system\n",
    "from langchain.prompts import PromptTemplate\n",
    "\n",
    "print(\"✅ Libraries imported! You're good to go!\")"
   ]
  },
  {
   "cell_type": "markdown",
   "id": "1aaacfdc",
   "metadata": {},
   "source": [
    "## 2 - Data preparation\n",
    "The goal of this step is to turn all reference documents into small chunks of text that a retriever can index and search. These documents typically come from:\n",
    "* PDF files: local documents such as policies, user manuals, or guides.\n",
    "* Web pages (HTML): online documentation, blog posts, or help articles.\n",
    "\n",
    "In this step, we perform two actions:\n",
    "* **Ingesting**: load every PDF and collect the raw text in a list named `raw_docs`.\n",
    "* **Chunking**: split each document into small, overlapping chunks so later steps can match a user query to the most relevant passage."
   ]
  },
  {
   "cell_type": "markdown",
   "id": "87150689",
   "metadata": {},
   "source": [
    "### 2.1 - Ingest source documents"
   ]
  },
  {
   "cell_type": "markdown",
   "id": "078b461a",
   "metadata": {},
   "source": [
    "We can use different libraries to load and process PDFs. A quick web search will show several options, each with its own strengths. In this case, we’ll use PyPDFLoader from LangChain, which makes it easy to extract text from PDF files for downstream processing. To learn more about how to use it, refer to: https://python.langchain.com/docs/integrations/document_loaders/pypdfloader/\n",
    "\n",
    "Use **PyPDFLoader** to load every PDF whose filename matches `data/Everstorm_*.pdf` and collect all pages in a list called `raw_docs`. The content of these PDFs is synthetically generated for educational purposes."
   ]
  },
  {
   "cell_type": "code",
   "execution_count": 3,
   "id": "9ff055a6",
   "metadata": {},
   "outputs": [
    {
     "name": "stderr",
     "output_type": "stream",
     "text": [
      "Ignoring wrong pointing object 81 0 (offset 0)\n",
      "Ignoring wrong pointing object 76 0 (offset 0)\n",
      "Ignoring wrong pointing object 80 0 (offset 0)\n"
     ]
    },
    {
     "name": "stdout",
     "output_type": "stream",
     "text": [
      "Loaded 8 PDF pages from 4 files.\n"
     ]
    }
   ],
   "source": [
    "# Load documents from various sources (URLs, text files, PDFs)\n",
    "from langchain_community.document_loaders import PyPDFLoader\n",
    "\n",
    "pdf_paths = glob.glob(\"data/Everstorm_*.pdf\")\n",
    "raw_docs = []\n",
    "\n",
    "def load_pdf_pages(path):\n",
    "    loader = PyPDFLoader(path)\n",
    "    return loader.load()\n",
    "    \n",
    "\n",
    "for path in pdf_paths:\n",
    "    raw_docs.extend(load_pdf_pages(path))\n",
    "\n",
    "\n",
    "print(f\"Loaded {len(raw_docs)} PDF pages from {len(pdf_paths)} files.\")"
   ]
  },
  {
   "cell_type": "markdown",
   "id": "c69f135e",
   "metadata": {},
   "source": [
    "### (Optional) 2.1 - Load web pages\n",
    "You can also pull content straight from the web. Various libraries support reading and parsing web pages directly into text, which is useful for building custom knowledge bases. One example is **UnstructuredURLLoader** from LangChain, which can extract readable content from raw HTML pages and return them in a structured format. To learn more, see: https://python.langchain.com/api_reference/community/document_loaders/langchain_community.document_loaders.url.UnstructuredURLLoader.html\n",
    "\n",
    "To practice, load each HTML page below and store the results in a list called `raw_docs`. We’ve included a few sample URLs, but you can replace them with any links you prefer.\n",
    "\n",
    "For robustness, add an offline fallback in case a URL fails. In real projects, we typically cache fetched pages to disk, handle rate limits, and track fetch timestamps so content can be refreshed periodically without relying on live network calls during development. For this project, we don’t have offline HTML copies available, but you can still practice by loading any PDFs from the data/ folder using PyPDFLoader and appending them to raw_docs."
   ]
  },
  {
   "cell_type": "code",
   "execution_count": 4,
   "id": "65abec32",
   "metadata": {},
   "outputs": [
    {
     "name": "stderr",
     "output_type": "stream",
     "text": [
      "100%|██████████| 4/4 [00:05<00:00,  1.46s/it]"
     ]
    },
    {
     "name": "stdout",
     "output_type": "stream",
     "text": [
      "Fetched -4 documents from the web.\n"
     ]
    },
    {
     "name": "stderr",
     "output_type": "stream",
     "text": [
      "\n"
     ]
    }
   ],
   "source": [
    "from langchain_community.document_loaders import UnstructuredURLLoader\n",
    "URLS = [\n",
    "    # --- BigCommerce – shipping & refunds ---\n",
    "    \"https://developer.bigcommerce.com/docs/store-operations/shipping\",\n",
    "    \"https://developer.bigcommerce.com/docs/store-operations/orders/refunds\",\n",
    "    # --- Stripe – disputes & chargebacks ---\n",
    "    \"https://docs.stripe.com/disputes\",  \n",
    "    # --- WooCommerce – REST API reference ---\n",
    "    \"https://woocommerce.github.io/woocommerce-rest-api-docs/v3.html\",\n",
    "]\n",
    "try:\n",
    "    prev = len(raw_docs)\n",
    "    loader = UnstructuredURLLoader(urls=URLS, continue_on_failure=True,show_progress_bar=True)\n",
    "    raw_docs.extend(loader.load())\n",
    "    print(f\"Fetched {prev - len(raw_docs)} documents from the web.\")\n",
    "except Exception as e:\n",
    "    print(\"⚠️  Web fetch failed, using offline copies:\", e)\n",
    "    raw_docs = []\n",
    "    for path  in glob.glob(\"data/Everstorm_*.pdf\"):\n",
    "        raw_docs.extend(load_pdf_pages(path)) \n",
    "     \n",
    "    print(f\"Loaded {len(raw_docs)} offline documents.\")"
   ]
  },
  {
   "cell_type": "markdown",
   "id": "c0ac4490",
   "metadata": {},
   "source": [
    "### 2.2 - Chunk the text"
   ]
  },
  {
   "cell_type": "markdown",
   "id": "9c242e44",
   "metadata": {},
   "source": [
    "Long documents won’t work well directly with most LLMs. They can easily exceed the model’s context window, making it impossible for the model to read or reason over the full text at once. Even if they fit, processing long inputs can be inefficient and lead to weaker retrieval results.\n",
    "\n",
    "To handle this, we split large documents into smaller, overlapping chunks. Several libraries can help with text splitting, each designed to preserve structure or balance chunk size. A popular choice is `RecursiveCharacterTextSplitter` from LangChain, which splits text intelligently while keeping paragraph or sentence boundaries intact. To familiarize youself with the library, visit: https://python.langchain.com/api_reference/text_splitters/character/langchain_text_splitters.character.RecursiveCharacterTextSplitter.html\n",
    "\n",
    "In this project, we’ll split each document into chunks of roughly 300 tokens with a 30-token overlap using `RecursiveCharacterTextSplitter`. This overlap helps maintain continuity across chunks while ensuring each piece stays small enough for embedding and retrieval."
   ]
  },
  {
   "cell_type": "code",
   "execution_count": 4,
   "id": "450d48a0",
   "metadata": {},
   "outputs": [
    {
     "name": "stdout",
     "output_type": "stream",
     "text": [
      "<class 'langchain_core.documents.base.Document'>\n",
      "✅ 42 chunks ready for embedding\n"
     ]
    }
   ],
   "source": [
    "chunks = []\n",
    "\n",
    "print(type(raw_docs[0]))\n",
    "\n",
    "text_splitter = RecursiveCharacterTextSplitter(\n",
    "    chunk_size=300,      # Set the chunk size in tokens\n",
    "    chunk_overlap=30,    # Set the chunk overlap in tokens\n",
    ")\n",
    "chunks = text_splitter.split_documents(raw_docs)\n",
    "print(f\"✅ {len(chunks)} chunks ready for embedding\")"
   ]
  },
  {
   "cell_type": "markdown",
   "id": "d89e6213",
   "metadata": {},
   "source": [
    "## 3 -Build a retriever\n",
    "\n",
    "A *retriever* lets the RAG pipeline efficiently look up small, relevant pieces of context at query‑time. This step has two parts:\n",
    "1. **Load a model to generate embeddings**: convert each text chunk from the reference documents into a fixed‑length vector that captures its semantic meaning.  \n",
    "2. **Build vector database**: store these embeddings in a vector database.\n"
   ]
  },
  {
   "cell_type": "markdown",
   "id": "c90db2d2",
   "metadata": {},
   "source": [
    "### 3.1 - Load a model to generate embeddings"
   ]
  },
  {
   "cell_type": "markdown",
   "id": "da722b3b",
   "metadata": {},
   "source": [
    "The goal of this step is to convert each document chunk into a numerical vector (an embedding) that captures its semantic meaning. These embeddings allow our retriever to find and compare similar pieces of text efficiently.\n",
    "\n",
    "There are models trained specifically for this purpose, called embedding models. One popular example is OpenAI’s `text-embedding-3-small`, which produces high-quality embeddings that work well for retrieval and semantic search.\n",
    "\n",
    "If you prefer running everything locally, you can use smaller open-source models such as `gte-small` (77 M parameters). These local models load quickly, don’t require internet access, and are ideal for experimentation or environments without API access. However, they’re typically less powerful than hosted models.\n",
    "\n",
    "Alternatively, you can connect to an API service to access stronger models like OpenAI’s. These require setting an API key (for example, OPENAI_API_KEY) in your environment. OpenAI allows you to create a free account and sometimes offers limited trial credits for new users, but ongoing access requires a billing setup. \n",
    "\n",
    "In this exercise, we’ll stick to the smaller thenlper/gte-small model for simplicity and reproducibility. We'll use our imported `SentenceTransformerEmbeddings` library to load the model and use it to embed queries. To learn more about lagnchain's embedding support, visit: https://python.langchain.c  conda env listom/docs/integrations/text_embedding/"
   ]
  },
  {
   "cell_type": "code",
   "execution_count": 5,
   "id": "4a222122",
   "metadata": {},
   "outputs": [
    {
     "name": "stderr",
     "output_type": "stream",
     "text": [
      "/var/folders/ms/5fqc80px4xxbtgfq20ml0zd80000gn/T/ipykernel_47432/1993830830.py:7: LangChainDeprecationWarning: The class `HuggingFaceEmbeddings` was deprecated in LangChain 0.2.2 and will be removed in 1.0. An updated version of the class exists in the :class:`~langchain-huggingface package and should be used instead. To use it run `pip install -U :class:`~langchain-huggingface` and import as `from :class:`~langchain_huggingface import HuggingFaceEmbeddings``.\n",
      "  embedding_function = SentenceTransformerEmbeddings(model_name=model_name)\n"
     ]
    }
   ],
   "source": [
    "embedding_vector = []\n",
    "# Choose a Sentence Transformer model, e.g., 'all-MiniLM-L6-v2'\n",
    "# You can find other models on the Hugging Face Model Hub.\n",
    "model_name = \"thenlper/gte-small\"\n",
    "\n",
    "# Create the embedding function\n",
    "embedding_function = SentenceTransformerEmbeddings(model_name=model_name)\n",
    "\n",
    "# # Example: Embedding a list of documents\n",
    "# documents = [\"This is the first document.\", \"And this is the second one.\"]\n",
    "# document_embeddings = embedding_function.embed_documents(documents)\n",
    "\n",
    "# Example: Embedding a single query\n",
    "query = \"What is the main topic?\"\n",
    "query_embedding = embedding_function.embed_query(query)\n",
    "# print(len(embedding_vector))"
   ]
  },
  {
   "cell_type": "code",
   "execution_count": 7,
   "id": "d6c2690a",
   "metadata": {},
   "outputs": [
    {
     "name": "stdout",
     "output_type": "stream",
     "text": [
      "[-0.0055002751760184765, 0.02420985698699951, -0.0042411875911056995, -0.054998863488435745, 0.041823308914899826, 0.03850102797150612, 0.05420629680156708, 0.06331192702054977, -0.033614497631788254, -0.011456703767180443, 0.01274618599563837, -0.01614997163414955, 0.045497674494981766, 0.06209016591310501, 0.05821569636464119, -0.01510512176901102, 0.016373325139284134, 0.026369959115982056, -0.04305654391646385, 0.06375326961278915, 0.04024704545736313, -0.005608097184449434, -0.0424804724752903, -0.0546906478703022, 0.02753284201025963, 0.00993261206895113, -0.03220843896269798, -0.0015935343690216541, -0.05091613158583641, -0.16601938009262085, -0.05927564948797226, -0.03113657608628273, 0.05379588529467583, 0.001981525681912899, -0.014229318127036095, -0.01713419146835804, 0.0001067792036337778, 0.04382370784878731, -0.007358163129538298, 0.036565009504556656, 0.0354471318423748, -0.043062638491392136, -0.04035263881087303, -0.05598006397485733, -0.044029511511325836, -0.020983388647437096, -0.03305114805698395, 0.003936686087399721, -0.005428962875157595, -0.08765824139118195, 0.014296813867986202, -0.03990364819765091, -0.019402410835027695, 0.012495102360844612, -0.005984527058899403, 0.020833300426602364, 0.08393917232751846, 0.0049625178799033165, 0.04274820163846016, 0.016121868044137955, 0.022360529750585556, 0.04995373636484146, -0.24246849119663239, 0.10507666319608688, 0.04588417708873749, 0.017312869429588318, -0.0018230292480438948, 0.020188763737678528, 0.034960538148880005, 0.024568254128098488, -0.09048684686422348, -0.008753896690905094, 0.053703997284173965, 0.08137699961662292, 0.02044231817126274, -0.01737561821937561, -0.0014453398762270808, -0.028021300211548805, 0.017599303275346756, 0.010123603977262974, -0.028415020555257797, 0.0019643506966531277, -0.014463874511420727, -0.004314827732741833, -0.02900502271950245, -0.06017512455582619, 0.01458541676402092, -0.025181349366903305, 0.03432449698448181, -0.013270172290503979, 0.0006871066289022565, -0.003227310488000512, 0.017946681007742882, 0.0048358202911913395, -0.07274138182401657, -0.010241334326565266, 0.027080899104475975, -0.03184744343161583, -0.03627268224954605, 0.21525385975837708, -0.04753950238227844, 0.03079177439212799, 0.10276869684457779, -0.04083036258816719, 0.027057386934757233, -0.047611087560653687, -0.01293448731303215, -0.0836355909705162, -0.04875827580690384, 0.052226629108190536, 0.01215659361332655, -0.006066534668207169, 0.015051305294036865, -0.028296371921896935, 0.058770421892404556, -0.026734793558716774, 0.08120302110910416, 0.038376856595277786, 0.011540274135768414, 0.019303323701024055, 0.009309050627052784, 0.012802470475435257, 0.0036897954996675253, -0.040678005665540695, 0.057256799191236496, -0.057680729776620865, 0.03988668695092201, 0.09687040001153946, 0.057816747575998306, -0.00267699733376503, 0.08309783041477203, -0.029359912499785423, -0.04467644542455673, 0.010316239669919014, -0.011267675086855888, 0.006711060181260109, -0.004922730848193169, 0.008023043163120747, 0.011726592667400837, 0.002840758766978979, -0.03909081965684891, -0.08310182392597198, -0.022763755172491074, -0.11204130947589874, -0.07464901357889175, 0.10752134025096893, -0.020141391083598137, 0.010213510133326054, -0.043094269931316376, 0.04461449757218361, -0.03838628903031349, 0.03568354621529579, -0.03854842856526375, -0.01140096690505743, 0.04166054725646973, 0.02092781849205494, 0.03253884240984917, 0.010657079517841339, -0.051502227783203125, -0.00015433828230015934, -0.046327006071805954, -0.046282969415187836, -0.05467326194047928, 0.14023379981517792, 0.06406908482313156, -0.06298637390136719, -0.06884798407554626, 0.012912566773593426, 0.004871895536780357, -0.01756773144006729, -0.024216540157794952, 0.05394984409213066, -0.0515398345887661, 0.02596481703221798, 0.08750878274440765, 0.017875058576464653, -0.012695051729679108, 0.008812435902655125, 0.011629577726125717, -0.0030791114550083876, 0.06827719509601593, -0.06422341614961624, -0.034620754420757294, 0.03663499280810356, 0.018884973600506783, -0.09162596613168716, -0.014473614282906055, -0.03377761319279671, 0.03519333899021149, 0.045752789825201035, -0.04449044540524483, 0.03748916834592819, -0.028985025361180305, -0.013899801298975945, -0.052123311907052994, -0.023966193199157715, -0.025207728147506714, -0.00667132344096899, 0.004661006387323141, 0.021303314715623856, -0.0007565979612991214, 0.009832876734435558, -0.07561727613210678, 0.06219576299190521, -0.003903763834387064, 0.034380894154310226, 0.006027079187333584, -0.003179544350132346, 0.06690404564142227, -0.01197596825659275, 0.00031098522595129907, 0.022115860134363174, -0.004882478620857, -0.05756986886262894, -0.03751499578356743, -0.05886199697852135, 0.047193873673677444, -0.004821068607270718, 0.017173493281006813, 0.04144814610481262, 0.040263380855321884, -0.05147576332092285, -0.036244239658117294, -0.25600460171699524, -1.4711892617924605e-05, -0.028449026867747307, -0.08729973435401917, 0.049774400889873505, -0.01047179289162159, 0.04641668125987053, -0.033921271562576294, -0.0027827764861285686, 0.09813959151506424, 0.1438247114419937, -0.027637440711259842, -0.0013817629078403115, -0.007908901199698448, 0.008783427998423576, 0.029408609494566917, -0.0024811341427266598, -0.009938252158463001, -0.006156999617815018, -0.0057304115034639835, -0.00913959089666605, 0.009225854650139809, -0.025169525295495987, -0.050746850669384, -0.004548563621938229, -0.03022397868335247, 0.1771422028541565, 0.041473906487226486, 0.0035040879156440496, -0.014000233262777328, 0.03941135108470917, 0.005342983640730381, -0.029296420514583588, -0.14893224835395813, 0.03879186883568764, 0.004484077449887991, 0.05018065497279167, -0.03828912228345871, -0.04347721114754677, -0.0034215603955090046, -0.04382661357522011, 0.006907315459102392, -0.020221209153532982, -0.05627337098121643, -0.06536075472831726, -0.05099634826183319, -0.021372033283114433, 0.01576351188123226, 0.007185859605669975, 0.005385394673794508, 0.03986810892820358, -0.012737508863210678, 0.01260280143469572, 0.04201285541057587, -0.0221332348883152, -0.039798058569431305, -0.08928070962429047, -0.006733361631631851, -0.036926425993442535, 0.01666136458516121, -0.003568847430869937, 0.004069603979587555, 0.04560033977031708, -0.06094184145331383, -0.0040266201831400394, 0.030882516875863075, 0.005281270015984774, -0.004670255351811647, 0.014779682271182537, -0.06348627805709839, -0.010614882223308086, 0.07388642430305481, 0.010436701588332653, -0.0447709858417511, 0.050147779285907745, 0.036965399980545044, 0.09869056195020676, -0.0023975714575499296, 0.021918071433901787, -0.0508437417447567, 0.0763360932469368, -0.05620911344885826, 0.017735809087753296, 0.0498456172645092, 0.056263938546180725, -0.0007990477606654167, 0.05283878743648529, -0.04023214057087898, 0.015659701079130173, -0.017789164558053017, 0.008547740057110786, 0.0032639263663440943, -0.06027883291244507, -0.04540877044200897, 0.005516355857253075, 0.006176508031785488, -0.26540645956993103, 0.03938760980963707, 0.03743740916252136, 0.043709833174943924, -0.04459371045231819, 0.018647827208042145, -0.004115452989935875, 0.05853588134050369, -0.08749882131814957, 0.02599320560693741, 0.058173421770334244, 0.04958402365446091, 0.032658904790878296, 0.0002292503631906584, -0.02051113359630108, 0.026987645775079727, 0.022095872089266777, -0.06731662154197693, 0.007032494060695171, 0.0007330995867960155, 0.03231940045952797, 0.051308225840330124, 0.16980335116386414, -0.03784969076514244, 0.027109453454613686, 0.011309824883937836, -0.02098921686410904, 0.07780428975820541, 0.03162243217229843, -0.026036398485302925, 0.021474210545420647, 0.013879857957363129, 0.09034954011440277, -0.04168305546045303, 0.049581944942474365, 0.024010708555579185, -0.022634541615843773, 0.058879680931568146, 0.041611310094594955, -0.035888466984033585, -0.0454244539141655, 0.02845703437924385, -0.039378874003887177, -0.014930341392755508, 0.10556858777999878, -0.018685191869735718, -0.015513768419623375, -0.06930218636989594, -0.006788901053369045, 0.007422308903187513, -0.03608596324920654, -0.036806609481573105, -0.0010033795842900872, -0.0005334505112841725, 0.032997071743011475, 0.03150510415434837, -0.01058084424585104, -0.0449352040886879, 0.018757330253720284, -0.02900891937315464, 0.033815063536167145, -0.020892709493637085, -0.008755705319344997, 0.04513220861554146, 0.04730328544974327]\n"
     ]
    }
   ],
   "source": [
    "import numpy\n",
    "embedding_vector = []\n",
    "# Choose a Sentence Transformer model, e.g., 'all-MiniLM-L6-v2'\n",
    "# You can find other models on the Hugging Face Model Hub.\n",
    "model_name = \"thenlper/gte-small\"\n",
    "\n",
    "# Create the embedding function\n",
    "embedding_function = SentenceTransformerEmbeddings(model_name=model_name)\n",
    "query = \"What is the main topic?\"\n",
    "query_embedding = embedding_function.embed_query(query)\n",
    "print(query_embedding)"
   ]
  },
  {
   "cell_type": "markdown",
   "id": "cebdae3d",
   "metadata": {},
   "source": [
    "### 3.2 - Build a vector database\n",
    "\n",
    "Once we have embeddings, we need a way to store and search them efficiently. A simple list wouldn’t scale well, especially when we have thousands of chunks and need to quickly find the most relevant ones.\n",
    "\n",
    "To solve this, we use **FAISS**, an open-source similarity search library developed by Meta. FAISS is optimized for fast nearest-neighbor search in high-dimensional spaces, making it ideal for tasks like semantic retrieval and recommendation. It’s strongly encouraged to visit their quickstart guide to understand how FAISS works and how to use it effectively: https://github.com/facebookresearch/faiss/wiki/getting-started\n",
    "\n",
    "In this step, we’ll feed all our document embeddings into FAISS, which builds an in-memory vector index. This index allows us to efficiently query for the *k* most similar chunks to any given question.\n",
    "\n",
    "During inference, we’ll use this index to retrieve the top-k relevant chunks and pass them to the LLM as context, enabling it to answer questions grounded in our documents.\n",
    "\n"
   ]
  },
  {
   "cell_type": "code",
   "execution_count": 8,
   "id": "611eda64",
   "metadata": {},
   "outputs": [
    {
     "name": "stdout",
     "output_type": "stream",
     "text": [
      "✅ Vector store with 42 embeddings\n"
     ]
    }
   ],
   "source": [
    "# Expected steps:\n",
    "    # 1. Build the FAISS index from the list of document chunks and their embeddings.\n",
    "    # 2. Create a retriever object with a suitable k value (e.g., 8).\n",
    "    # 3. Save the vector store locally (e.g., under \"faiss_index\").\n",
    "    # 4. Print a short confirmation showing how many embeddings were stored.\n",
    "\n",
    "# Step 1:\n",
    "vectordb = FAISS.from_documents(chunks, embedding_function)\n",
    "\n",
    "# Step 2\n",
    "retriever = vectordb.as_retriever(search_kwargs={\"k\": 8})\n",
    "\n",
    "# Steps 3\n",
    "vectordb.save_local(\"faiss_index\")\n",
    "\n",
    "# step 4\n",
    "print(\"✅ Vector store with\", vectordb.index.ntotal, \"embeddings\")"
   ]
  },
  {
   "cell_type": "markdown",
   "id": "c456f820",
   "metadata": {},
   "source": [
    "## 4 - Build the generation engine\n",
    "At the core of any RAG system lies an **LLM**. The retriever finds relevant information, and the LLM uses that information to generate coherent, context-aware responses.\n",
    "\n",
    "In this project, we’ll use **Gemma 3* (1B), a small but capable open-weight model, and run it entirely on your local machine using Ollama. This means you won’t need API keys or internet access to generate responses once the model is downloaded.\n",
    "\n",
    "**What is Ollama?**\n",
    "\n",
    "Ollama is a lightweight runtime for managing and serving open-weight LLMs locally. It provides:\n",
    "* A simple REST API running at localhost:11434, so your code can interact with the model via standard HTTP calls.\n",
    "* A model registry and command-line tool** to pull, run, and manage models easily.\n",
    "* Support for a wide variety of models (e.g., Gemma, Llama, Mistral, Phi, etc.), making it ideal for experimentation.\n",
    "\n",
    "To learn more about Ollama, visit: https://github.com/ollama/ollama. You can browse all supported models and their sizes here: https://ollama.com/library\n",
    "\n",
    "\n",
    "### 4.1 - Install `ollama` and serve `gemma3`\n",
    "\n",
    "Follow these steps to set up Ollama and start the model server:\n",
    "\n",
    "**1 - Install**\n",
    "```bash\n",
    "# macOS (Homebrew)\n",
    "brew install ollama\n",
    "# Linux\n",
    "curl -fsSL https://ollama.com/install.sh | sh\n",
    "```\n",
    "\n",
    "If you’re on Windows, install using the official installer from https://ollama.com/download.\n",
    "\n",
    "**2 - Start the Ollama server (keep this terminal open)**\n",
    "```bash\n",
    "ollama serve\n",
    "```\n",
    "This command launches a local server at http://localhost:11434, which will stay running in the background.\n",
    "\n",
    "\n",
    "**3 - Pull the Gemma mode (or the model of your choice) in a new terminal**\n",
    "```bash\n",
    "ollama pull gemma3:1b\n",
    "```\n",
    "\n",
    "This downloads the 1B version of Gemma 3, a compact model suitable for running on most modern laptops. Once downloaded, Ollama will automatically handle model loading and caching.\n",
    "\n",
    "\n",
    "After this setup, your system is ready to generate responses locally using the Gemma model through the Ollama API.\n"
   ]
  },
  {
   "cell_type": "markdown",
   "id": "bba7e203",
   "metadata": {},
   "source": [
    "### 4.2 - Test an LLM with a random prompt (Sanity check)\n"
   ]
  },
  {
   "cell_type": "code",
   "execution_count": 9,
   "id": "b1d34a32",
   "metadata": {},
   "outputs": [
    {
     "name": "stderr",
     "output_type": "stream",
     "text": [
      "/var/folders/ms/5fqc80px4xxbtgfq20ml0zd80000gn/T/ipykernel_47432/1445896498.py:5: LangChainDeprecationWarning: The class `Ollama` was deprecated in LangChain 0.3.1 and will be removed in 1.0.0. An updated version of the class exists in the :class:`~langchain-ollama package and should be used instead. To use it run `pip install -U :class:`~langchain-ollama` and import as `from :class:`~langchain_ollama import OllamaLLM``.\n",
      "  llm = Ollama(model=\"gemma3:1b\", temperature = 0.1)\n"
     ]
    },
    {
     "name": "stdout",
     "output_type": "stream",
     "text": [
      "Hello! I’m Gemma, a large language model created by the Gemma team at Google DeepMind.\n"
     ]
    }
   ],
   "source": [
    "# Expected steps:\n",
    "    # 1. Initialize the model (for example, gemma3:1b) with a low temperature such as 0.1 for more factual outputs.\n",
    "    # 2. Use llm.invoke() with a short test prompt and print the response to verify that the model runs successfully.\n",
    "\n",
    "llm = Ollama(model=\"gemma3:1b\", temperature = 0.1)\n",
    "text = \"Hi whats your name?\"\n",
    "resp = llm.invoke(text)\n",
    "\n",
    "print(resp)"
   ]
  },
  {
   "cell_type": "markdown",
   "id": "6556263d",
   "metadata": {},
   "source": [
    "## Build a RAG"
   ]
  },
  {
   "cell_type": "markdown",
   "id": "3dbfec15",
   "metadata": {},
   "source": [
    "### 5.1 - Define a system prompt"
   ]
  },
  {
   "cell_type": "markdown",
   "id": "66b5c84b",
   "metadata": {},
   "source": [
    "At this stage, we need to tell the model how to behave when generating answers. The **system prompt** acts as the model’s rulebook. It should clearly instruct the model to answer only using the retrieved context and to admit when it doesn’t know the answer. This helps prevent hallucination and keeps the responses grounded in the provided documents.\n",
    "\n",
    "In general, a good RAG prompt emphasizes three things: stay within context, stay factual, and stay concise. This is important because RAG works by grounding the LLM in retrieved text. If the prompt is vague, the model may invent details. A precise system prompt reduces hallucinations and keeps answers aligned with your corpus."
   ]
  },
  {
   "cell_type": "code",
   "execution_count": 10,
   "id": "dcecb2b6",
   "metadata": {},
   "outputs": [],
   "source": [
    "SYSTEM_TEMPLATE = \"\"\"\n",
    "You are a **Customer Support Chatbot**. Use only the information in CONTEXT to answer.\n",
    "If the answer is not in CONTEXT, respond with “I'm not sure from the docs.”\n",
    "\n",
    "Rules:\n",
    "1) Use ONLY the provided <context> to answer.\n",
    "2) If the answer is not in the context, say: \"I don't know based on the retrieved documents.\"\n",
    "3) Be concise and accurate. Prefer quoting key phrases from the context.\n",
    "4) When possible, cite sources as [source: source] using the metadata.\n",
    "\n",
    "CONTEXT:\n",
    "{context}\n",
    "\n",
    "USER:\n",
    "{question}\n",
    "\"\"\""
   ]
  },
  {
   "cell_type": "markdown",
   "id": "de27cc9a",
   "metadata": {},
   "source": [
    "### 5.2 Create a RAG chain\n",
    "Now that we have a retriever, a prompt, and a language model, we can connect them into a single RAG pipeline. The retriever finds the most relevant chunks from our vector index, the prompt injects those chunks into the system message, and the LLM uses that context to produce the final answer. (retriever → prompt → model)\n",
    "\n",
    "This connection is handled through LangChain’s `ConversationalRetrievalChain`, which combines retrieval and generation. To familiarize yourself with the library, visit: https://python.langchain.com/api_reference/langchain/chains/langchain.chains.conversational_retrieval.base.ConversationalRetrievalChain.html"
   ]
  },
  {
   "cell_type": "code",
   "execution_count": 15,
   "id": "0b138b3d",
   "metadata": {},
   "outputs": [],
   "source": [
    "# Expected steps:\n",
    "    # 1. Create a PromptTemplate that uses the SYSTEM_TEMPLATE you defined earlier, with input variables for \"context\" and \"question\".\n",
    "    # 2. Initialize your LLM using Ollama with the gemma3:1b model and a low temperature (e.g., 0.1) for reliable, grounded responses.\n",
    "    # 3. Build a ConversationalRetrievalChain by combining the LLM, the retriever, and your custom prompt and name it \"chain\".\n",
    "\n",
    "prompt = PromptTemplate(\n",
    "    input_variables=[\"context\", \"question\"],\n",
    "    template=SYSTEM_TEMPLATE,\n",
    ")\n",
    "\n",
    "llm = Ollama(model=\"gemma3:1b\", temperature=0.1)\n",
    "\n",
    "chain = ConversationalRetrievalChain.from_llm(\n",
    "    llm,\n",
    "    retriever,\n",
    "    combine_docs_chain_kwargs={\"prompt\": prompt},\n",
    "    return_source_documents=True,\n",
    ")"
   ]
  },
  {
   "cell_type": "markdown",
   "id": "64a6c7fc",
   "metadata": {},
   "source": [
    "When you ask a question, the retriever pulls the top few relevant text chunks, the model reads them through the system prompt, and then it generates an answer based on that context.\n",
    "\n",
    "This structure makes the system transparent and easy to debug. You can inspect what text was retrieved, tune parameters like k, and experiment with different prompts to see how they affect the output quality.\n"
   ]
  },
  {
   "cell_type": "markdown",
   "id": "6c1eb44d",
   "metadata": {},
   "source": [
    "### 5.3 - Validate the RAG chain"
   ]
  },
  {
   "cell_type": "markdown",
   "id": "e5ee50de",
   "metadata": {},
   "source": [
    "We run a few questions to make sure everything behaves as expecte. Experiment by adding you own questions."
   ]
  },
  {
   "cell_type": "code",
   "execution_count": 16,
   "id": "8f6d7a7d",
   "metadata": {},
   "outputs": [
    {
     "name": "stdout",
     "output_type": "stream",
     "text": [
      "\n",
      "Q: If I'm not happy with my purchase, what is your refund policy and how do I start a return?\n",
      "A: Okay, here’s your refund policy and return process, based on the provided context:\n",
      "\n",
      "**Refund Policy**\n",
      "\n",
      "We offer refunds for defective or unsatisfactory items within 30 days of delivery.  Here’s a breakdown:\n",
      "\n",
      "*   **Warehouse Receipt → Inspection ≤ 3 Business Days:** If the carrier scans the return label, authorization drops when our returns team rec...\n",
      "\n",
      "Q: How long will delivery take for a standard order, and where can I track my package once it ships?\n",
      "A: Delivery typically takes 20 days for standard orders in the U.S., and 14 days for international orders. You can track your package using a tracking link that is emailed upon label creation. [source: Context]...\n",
      "\n",
      "Q: What's the quickest way to contact your support team, and what are your operating hours?\n",
      "A: You can contact our support team at returns@everstorm.example. We’re available 24/7. Our business hours are Monday through Friday, 9:00 AM to 5:00 PM Pacific Time....\n"
     ]
    }
   ],
   "source": [
    "test_questions = [\n",
    "    \"If I'm not happy with my purchase, what is your refund policy and how do I start a return?\",\n",
    "    \"How long will delivery take for a standard order, and where can I track my package once it ships?\",\n",
    "    \"What's the quickest way to contact your support team, and what are your operating hours?\",\n",
    "]\n",
    "\n",
    "# Expected steps:\n",
    "    # 1. Initialize an empty chat_history list.\n",
    "    # 2. Loop through test_questions, pass each question and the current chat history to the chain, and append the new answer.\n",
    "    # 3. Print each question and the LLM's response to verify it’s working correctly.\n",
    "\n",
    "chat_history = []\n",
    "for q in test_questions:\n",
    "    result = chain({\"question\": q, \"chat_history\": chat_history})\n",
    "    chat_history.append((q, result[\"answer\"]))\n",
    "    print(f\"\\nQ: {q}\\nA: {result['answer'][:350]}...\")\n"
   ]
  },
  {
   "cell_type": "markdown",
   "id": "86f8c6b4",
   "metadata": {},
   "source": [
    "### 6 - Build the Streamlit UI (optional)"
   ]
  },
  {
   "cell_type": "markdown",
   "id": "eecc640b",
   "metadata": {},
   "source": [
    "The goal here is to create a tiny demo so you can interact with your RAG system. The focus is not on UI design. We will build a very small interface only to demonstrate the end-to-end flow.\n",
    "\n",
    "There are many ways to make a UI. Some frameworks are powerful but take longer to set up, while others are simple and good for quick experiments. Streamlit is a common choice for fast prototyping because it lets you make a usable interface with only a few lines of Python. If you want to learn the basics, see the Streamlit Quickstart: https://docs.streamlit.io/deploy/streamlit-community-cloud/get-started/quickstart\n",
    "\n",
    "This step is optional. If it is not useful for your work, you can skip it. We will also complete this part together during the live session.\n",
    "\n",
    "In this cell, we write a minimal **`app.py`** that starts a simple chat UI and calls your RAG chain."
   ]
  },
  {
   "cell_type": "code",
   "execution_count": 17,
   "id": "c182fb86",
   "metadata": {},
   "outputs": [
    {
     "name": "stdout",
     "output_type": "stream",
     "text": [
      "app.py written\n"
     ]
    },
    {
     "name": "stderr",
     "output_type": "stream",
     "text": [
      "huggingface/tokenizers: The current process just got forked, after parallelism has already been used. Disabling parallelism to avoid deadlocks...\n",
      "To disable this warning, you can either:\n",
      "\t- Avoid using `tokenizers` before the fork if possible\n",
      "\t- Explicitly set the environment variable TOKENIZERS_PARALLELISM=(true | false)\n"
     ]
    }
   ],
   "source": [
    "%%bash\n",
    "cat > app.py <<'PY'\n",
    "import pathlib, streamlit as st\n",
    "from langchain.vectorstores import FAISS\n",
    "from langchain.embeddings import HuggingFaceEmbeddings\n",
    "from langchain.llms import Ollama\n",
    "from langchain.chains import ConversationalRetrievalChain\n",
    "from langchain.memory import ConversationBufferMemory\n",
    "\n",
    "st.set_page_config(page_title=\"Customer Support Chatbot\")\n",
    "st.title(\"Customer Support Chatbot\")\n",
    "\n",
    "@st.cache_resource\n",
    "def init_chain():\n",
    "    vectordb = FAISS.load_local(\n",
    "        \"faiss_index\",\n",
    "        HuggingFaceEmbeddings(model_name=\"thenlper/gte-small\"),\n",
    "        allow_dangerous_deserialization=True,\n",
    "    )\n",
    "    retriever = vectordb.as_retriever(search_kwargs={\"k\": 8})\n",
    "    llm = Ollama(model=\"gemma3:1b\", temperature=0.1)\n",
    "\n",
    "    memory = ConversationBufferMemory(\n",
    "        memory_key=\"chat_history\",\n",
    "        return_messages=True,\n",
    "    )\n",
    "\n",
    "    return ConversationalRetrievalChain.from_llm(\n",
    "        llm,\n",
    "        retriever,\n",
    "        memory=memory,\n",
    "    )\n",
    "\n",
    "chain = init_chain()\n",
    "\n",
    "if \"history\" not in st.session_state:\n",
    "    st.session_state.history = []\n",
    "\n",
    "question = st.chat_input(\"What is in your mind?\")\n",
    "if question:\n",
    "    with st.spinner(\"Thinking...\"):\n",
    "        response = chain(\n",
    "            {\n",
    "                \"question\": question,\n",
    "                \"chat_history\": st.session_state.history,   # <- supply it\n",
    "            }\n",
    "        )\n",
    "    st.session_state.history.append((question, response[\"answer\"]))\n",
    "\n",
    "\n",
    "for user, bot in reversed(st.session_state.history):\n",
    "    st.markdown(f\"**You:** {user}\")\n",
    "    st.markdown(bot)\n",
    "PY\n",
    "echo \"app.py written\""
   ]
  },
  {
   "cell_type": "markdown",
   "id": "04dc8ad3",
   "metadata": {},
   "source": [
    "Run `streamlit run app.py` from your terminal."
   ]
  },
  {
   "cell_type": "markdown",
   "id": "2a7328a5",
   "metadata": {},
   "source": [
    "## 🎉 Congratulations!\n",
    "\n",
    "You’ve just built, tested, and demoed a fully working **customer-support chatbot**.  \n",
    "In one project you:\n",
    "\n",
    "* **Prepared policy docs**: loaded and chunked them for fast retrieval.  \n",
    "* **Built a vector store**: created a FAISS index with text embeddings.  \n",
    "* **Plugged in an LLM**: wrapped Gemma3 with LangChain and a prompt-aware RAG chain.  \n",
    "* **Validated end-to-end**: answered refund, shipping, and contact questions with confidence.  \n",
    "\n",
    "Swap in new documents, tweak the prompt, and your store’s customers get instant, accurate answers.\n",
    "\n",
    "👏 **Great job!** Take a moment to celebrate. The skills you used here power most RAG-based chatbots you see everywhere.\n"
   ]
  },
  {
   "cell_type": "markdown",
   "id": "929eabbd",
   "metadata": {},
   "source": []
  }
 ],
 "metadata": {
  "kernelspec": {
   "display_name": "rag-chatbot",
   "language": "python",
   "name": "python3"
  },
  "language_info": {
   "codemirror_mode": {
    "name": "ipython",
    "version": 3
   },
   "file_extension": ".py",
   "mimetype": "text/x-python",
   "name": "python",
   "nbconvert_exporter": "python",
   "pygments_lexer": "ipython3",
   "version": "3.11.14"
  }
 },
 "nbformat": 4,
 "nbformat_minor": 5
}
